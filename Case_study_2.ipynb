{
 "cells": [
  {
   "cell_type": "markdown",
   "id": "c24f1737",
   "metadata": {},
   "source": [
    "# Case Study 2\n",
    "\n",
    "In this case study we will investigate the effect of the initial basis set on the accuracy of PauliNet. We are going to use a simple molecule, lithium hydride, such that we can quickly carry out highly correlated calculations to compare the results.\n",
    "\n",
    "In the following, every cell contains extensive comments to guide you through this notebook and allow you to understand all the steps."
   ]
  },
  {
   "cell_type": "markdown",
   "id": "e9e67174",
   "metadata": {},
   "source": [
    "## PauliNet training\n",
    "\n",
    "For this case study, we are going to use the default network architecture of PauliNet. The only parameters that we are going to change are the basis sets used to generate the mean-field orbitals, and the training parameters (to speed up a little the network optimization).\n",
    "Some of these calculations can become quite expensive, so depending on the computing power at your disposal this might take several minutes to hours.\n",
    "If you have access to a Nvidia GPU, it can significantly speed up this process."
   ]
  },
  {
   "cell_type": "code",
   "execution_count": 2,
   "id": "7851cd4f",
   "metadata": {},
   "outputs": [],
   "source": [
    "# import deepqmc package and PauliNet\n",
    "import deepqmc\n",
    "from deepqmc.wf import PauliNet"
   ]
  },
  {
   "cell_type": "markdown",
   "id": "0b83ba10",
   "metadata": {},
   "source": [
    "Let us start by defining the lithium hydride molecule in the datastructure that deepqmc understands and initialize an empty list in which we will save the ground state energies obtained with PauliNet."
   ]
  },
  {
   "cell_type": "code",
   "execution_count": 3,
   "id": "b406293f",
   "metadata": {},
   "outputs": [],
   "source": [
    "# define the LiH molecule using the deepqmc datastructure\n",
    "LiH_deepqmc = deepqmc.Molecule(\n",
    "    coords  = [[0.0,0.0,0.0],[3.0141132,0.0,0.0]],\n",
    "    charges = [3,1],\n",
    "    charge  = 0,\n",
    "    spin    = 0)\n",
    "\n",
    "# initialize list to save the energies\n",
    "E_paulinet = []"
   ]
  },
  {
   "cell_type": "markdown",
   "id": "c4cfbe6c",
   "metadata": {},
   "source": [
    "Next, we are going to initialize the default PauliNet architecture starting from a single Hartree-Fock calculation in combination with different basis sets. For this case study we are going to use the cc-pvxz family of basis sets, which allow us to perform complete basis set extrapolations.\n",
    "\n",
    "Note that PauliNet initialized in this way is using a single Slater determinant."
   ]
  },
  {
   "cell_type": "code",
   "execution_count": 4,
   "id": "e79d7f67",
   "metadata": {},
   "outputs": [
    {
     "name": "stdout",
     "output_type": "stream",
     "text": [
      "converged SCF energy = -7.98365070477958\n",
      "converged SCF energy = -7.9867833502087\n",
      "converged SCF energy = -7.9872293851667\n",
      "converged SCF energy = -7.98733105685954\n"
     ]
    }
   ],
   "source": [
    "# define the neural networks with increasing basis set sizes\n",
    "net_dz = PauliNet.from_hf(LiH_deepqmc,basis='cc-pvdz')\n",
    "net_tz = PauliNet.from_hf(LiH_deepqmc,basis='cc-pvtz')\n",
    "net_qz = PauliNet.from_hf(LiH_deepqmc,basis='cc-pvqz')\n",
    "net_5z = PauliNet.from_hf(LiH_deepqmc,basis='cc-pv5z')\n",
    "\n",
    "# if you have access to Nvidia GPUs and you would like to use\n",
    "# them to train and evaluate the PauliNet wavefunction, initialize\n",
    "# the networks with an addition .cuda() at the end of the line, e.g.\n",
    "#\n",
    "# net_dz = PauliNet.from_hf(LiH_deepqmc,basis='cc-pvdz').cuda()\n",
    "#"
   ]
  },
  {
   "cell_type": "markdown",
   "id": "0ff9342c",
   "metadata": {},
   "source": [
    "At this point, we can already train the neural networks. This is the most expensive part of the calculation and it can take up to a few hours, depending on your computing resources. The training parameters have been adjusted to minimize the time required, but you are free to experiment yourself their impact on the training performance.\n",
    "\n",
    "First, we train the network initialized with a double zeta basis set.  \n",
    "The parameters passed to the `deepqmc.train()` function are explained in detail at https://deepqmc.github.io/api.html.\n",
    "\n",
    "Specification of the `workdir` allows to follow the optimization procedure with [tensorboard](https://www.tensorflow.org/tensorboard), which should have been automatically installed along with deepqmc. Once the training is running, type in a terminal window the command `tensorboard --logdir path/to/LiH/` (where `path/to/LiH/` should point to the folder passed to `workdir` without the basis set part), and then follow the instruction from the terminal to open a browser tab with tensorboard.\n",
    "\n",
    "We are now ready to start the calculation with the cc-pvdz basis set.\n",
    "\n",
    "### PauliNet: cc-pvdz"
   ]
  },
  {
   "cell_type": "code",
   "execution_count": 5,
   "id": "5dc7eb4d",
   "metadata": {},
   "outputs": [
    {
     "data": {
      "application/vnd.jupyter.widget-view+json": {
       "model_id": "e27a03c319334662ad537722627bde60",
       "version_major": 2,
       "version_minor": 0
      },
      "text/plain": [
       "equilibrating: 0it [00:00, ?it/s]"
      ]
     },
     "metadata": {},
     "output_type": "display_data"
    },
    {
     "data": {
      "application/vnd.jupyter.widget-view+json": {
       "model_id": "65108d8135a94842af4f37d76dc28994",
       "version_major": 2,
       "version_minor": 0
      },
      "text/plain": [
       "training:   0%|          | 0/500 [00:00<?, ?it/s]"
      ]
     },
     "metadata": {},
     "output_type": "display_data"
    },
    {
     "data": {
      "application/vnd.jupyter.widget-view+json": {
       "model_id": "",
       "version_major": 2,
       "version_minor": 0
      },
      "text/plain": [
       "sampling:   0%|          | 0/5 [00:00<?, ?it/s]"
      ]
     },
     "metadata": {},
     "output_type": "display_data"
    },
    {
     "data": {
      "application/vnd.jupyter.widget-view+json": {
       "model_id": "",
       "version_major": 2,
       "version_minor": 0
      },
      "text/plain": [
       "sampling:   0%|          | 0/5 [00:00<?, ?it/s]"
      ]
     },
     "metadata": {},
     "output_type": "display_data"
    },
    {
     "data": {
      "application/vnd.jupyter.widget-view+json": {
       "model_id": "",
       "version_major": 2,
       "version_minor": 0
      },
      "text/plain": [
       "sampling:   0%|          | 0/5 [00:00<?, ?it/s]"
      ]
     },
     "metadata": {},
     "output_type": "display_data"
    },
    {
     "data": {
      "application/vnd.jupyter.widget-view+json": {
       "model_id": "",
       "version_major": 2,
       "version_minor": 0
      },
      "text/plain": [
       "sampling:   0%|          | 0/5 [00:00<?, ?it/s]"
      ]
     },
     "metadata": {},
     "output_type": "display_data"
    },
    {
     "data": {
      "application/vnd.jupyter.widget-view+json": {
       "model_id": "",
       "version_major": 2,
       "version_minor": 0
      },
      "text/plain": [
       "sampling:   0%|          | 0/5 [00:00<?, ?it/s]"
      ]
     },
     "metadata": {},
     "output_type": "display_data"
    },
    {
     "data": {
      "application/vnd.jupyter.widget-view+json": {
       "model_id": "",
       "version_major": 2,
       "version_minor": 0
      },
      "text/plain": [
       "sampling:   0%|          | 0/5 [00:00<?, ?it/s]"
      ]
     },
     "metadata": {},
     "output_type": "display_data"
    },
    {
     "data": {
      "application/vnd.jupyter.widget-view+json": {
       "model_id": "",
       "version_major": 2,
       "version_minor": 0
      },
      "text/plain": [
       "sampling:   0%|          | 0/5 [00:00<?, ?it/s]"
      ]
     },
     "metadata": {},
     "output_type": "display_data"
    },
    {
     "data": {
      "application/vnd.jupyter.widget-view+json": {
       "model_id": "",
       "version_major": 2,
       "version_minor": 0
      },
      "text/plain": [
       "sampling:   0%|          | 0/5 [00:00<?, ?it/s]"
      ]
     },
     "metadata": {},
     "output_type": "display_data"
    },
    {
     "data": {
      "application/vnd.jupyter.widget-view+json": {
       "model_id": "",
       "version_major": 2,
       "version_minor": 0
      },
      "text/plain": [
       "sampling:   0%|          | 0/5 [00:00<?, ?it/s]"
      ]
     },
     "metadata": {},
     "output_type": "display_data"
    },
    {
     "data": {
      "application/vnd.jupyter.widget-view+json": {
       "model_id": "",
       "version_major": 2,
       "version_minor": 0
      },
      "text/plain": [
       "sampling:   0%|          | 0/5 [00:00<?, ?it/s]"
      ]
     },
     "metadata": {},
     "output_type": "display_data"
    },
    {
     "data": {
      "application/vnd.jupyter.widget-view+json": {
       "model_id": "",
       "version_major": 2,
       "version_minor": 0
      },
      "text/plain": [
       "sampling:   0%|          | 0/5 [00:00<?, ?it/s]"
      ]
     },
     "metadata": {},
     "output_type": "display_data"
    },
    {
     "data": {
      "application/vnd.jupyter.widget-view+json": {
       "model_id": "",
       "version_major": 2,
       "version_minor": 0
      },
      "text/plain": [
       "sampling:   0%|          | 0/5 [00:00<?, ?it/s]"
      ]
     },
     "metadata": {},
     "output_type": "display_data"
    },
    {
     "data": {
      "application/vnd.jupyter.widget-view+json": {
       "model_id": "",
       "version_major": 2,
       "version_minor": 0
      },
      "text/plain": [
       "sampling:   0%|          | 0/5 [00:00<?, ?it/s]"
      ]
     },
     "metadata": {},
     "output_type": "display_data"
    },
    {
     "data": {
      "application/vnd.jupyter.widget-view+json": {
       "model_id": "",
       "version_major": 2,
       "version_minor": 0
      },
      "text/plain": [
       "sampling:   0%|          | 0/5 [00:00<?, ?it/s]"
      ]
     },
     "metadata": {},
     "output_type": "display_data"
    },
    {
     "data": {
      "application/vnd.jupyter.widget-view+json": {
       "model_id": "",
       "version_major": 2,
       "version_minor": 0
      },
      "text/plain": [
       "sampling:   0%|          | 0/5 [00:00<?, ?it/s]"
      ]
     },
     "metadata": {},
     "output_type": "display_data"
    },
    {
     "data": {
      "application/vnd.jupyter.widget-view+json": {
       "model_id": "",
       "version_major": 2,
       "version_minor": 0
      },
      "text/plain": [
       "sampling:   0%|          | 0/5 [00:00<?, ?it/s]"
      ]
     },
     "metadata": {},
     "output_type": "display_data"
    },
    {
     "data": {
      "application/vnd.jupyter.widget-view+json": {
       "model_id": "",
       "version_major": 2,
       "version_minor": 0
      },
      "text/plain": [
       "sampling:   0%|          | 0/5 [00:00<?, ?it/s]"
      ]
     },
     "metadata": {},
     "output_type": "display_data"
    },
    {
     "data": {
      "application/vnd.jupyter.widget-view+json": {
       "model_id": "",
       "version_major": 2,
       "version_minor": 0
      },
      "text/plain": [
       "sampling:   0%|          | 0/5 [00:00<?, ?it/s]"
      ]
     },
     "metadata": {},
     "output_type": "display_data"
    },
    {
     "data": {
      "application/vnd.jupyter.widget-view+json": {
       "model_id": "",
       "version_major": 2,
       "version_minor": 0
      },
      "text/plain": [
       "sampling:   0%|          | 0/5 [00:00<?, ?it/s]"
      ]
     },
     "metadata": {},
     "output_type": "display_data"
    },
    {
     "data": {
      "application/vnd.jupyter.widget-view+json": {
       "model_id": "",
       "version_major": 2,
       "version_minor": 0
      },
      "text/plain": [
       "sampling:   0%|          | 0/5 [00:00<?, ?it/s]"
      ]
     },
     "metadata": {},
     "output_type": "display_data"
    },
    {
     "data": {
      "application/vnd.jupyter.widget-view+json": {
       "model_id": "",
       "version_major": 2,
       "version_minor": 0
      },
      "text/plain": [
       "sampling:   0%|          | 0/5 [00:00<?, ?it/s]"
      ]
     },
     "metadata": {},
     "output_type": "display_data"
    },
    {
     "data": {
      "application/vnd.jupyter.widget-view+json": {
       "model_id": "",
       "version_major": 2,
       "version_minor": 0
      },
      "text/plain": [
       "sampling:   0%|          | 0/5 [00:00<?, ?it/s]"
      ]
     },
     "metadata": {},
     "output_type": "display_data"
    },
    {
     "data": {
      "application/vnd.jupyter.widget-view+json": {
       "model_id": "",
       "version_major": 2,
       "version_minor": 0
      },
      "text/plain": [
       "sampling:   0%|          | 0/5 [00:00<?, ?it/s]"
      ]
     },
     "metadata": {},
     "output_type": "display_data"
    },
    {
     "data": {
      "application/vnd.jupyter.widget-view+json": {
       "model_id": "",
       "version_major": 2,
       "version_minor": 0
      },
      "text/plain": [
       "sampling:   0%|          | 0/5 [00:00<?, ?it/s]"
      ]
     },
     "metadata": {},
     "output_type": "display_data"
    },
    {
     "data": {
      "application/vnd.jupyter.widget-view+json": {
       "model_id": "",
       "version_major": 2,
       "version_minor": 0
      },
      "text/plain": [
       "sampling:   0%|          | 0/5 [00:00<?, ?it/s]"
      ]
     },
     "metadata": {},
     "output_type": "display_data"
    }
   ],
   "source": [
    "# train the network initialized with the cc-pvdz basis set\n",
    "# n_steps: total number of optimization steps (default: 10000)\n",
    "# batch_size: number of samples used in a optimization step (default: 10000)\n",
    "# epoch_size: number of steps before the WF is resampled (default: 100)\n",
    "\n",
    "deepqmc.train(net_dz, n_steps=500, batch_size=500, epoch_size=20, workdir='LiH/cc-pvdz')"
   ]
  },
  {
   "cell_type": "markdown",
   "id": "78664ada",
   "metadata": {},
   "source": [
    "Once the network is trained, we can evaluate the energy:"
   ]
  },
  {
   "cell_type": "code",
   "execution_count": 6,
   "id": "68575699",
   "metadata": {},
   "outputs": [
    {
     "data": {
      "application/vnd.jupyter.widget-view+json": {
       "model_id": "9c1d7d33147849d5b39deeceee530904",
       "version_major": 2,
       "version_minor": 0
      },
      "text/plain": [
       "equilibrating: 0it [00:00, ?it/s]"
      ]
     },
     "metadata": {},
     "output_type": "display_data"
    },
    {
     "data": {
      "text/plain": [
       "{'energy': -8.06555190199241+/-0.0008981907669284799}"
      ]
     },
     "execution_count": 6,
     "metadata": {},
     "output_type": "execute_result"
    }
   ],
   "source": [
    "# evaluate the ground state energy with the trained network (cc-pvdz)\n",
    "# n_steps: number of Monte Carlo sweeps (default: 500)\n",
    "# sample_size: length of the Markov chain (default: 1000)\n",
    "deepqmc.evaluate(net_dz, n_steps=400, sample_size=800)"
   ]
  },
  {
   "cell_type": "code",
   "execution_count": 4,
   "id": "e6b6fbb1",
   "metadata": {},
   "outputs": [],
   "source": [
    "E_paulinet.append(-8.06555190199241)"
   ]
  },
  {
   "cell_type": "markdown",
   "id": "fc03ebcf",
   "metadata": {},
   "source": [
    "We can now repeat the same operation for the other three netowkrs with different basis set sizes.\n",
    "\n",
    "### PauliNet: cc-pvtz"
   ]
  },
  {
   "cell_type": "code",
   "execution_count": 7,
   "id": "32c54d72",
   "metadata": {},
   "outputs": [
    {
     "data": {
      "application/vnd.jupyter.widget-view+json": {
       "model_id": "c2981419cdc74e3eb128bf4ed3b07e47",
       "version_major": 2,
       "version_minor": 0
      },
      "text/plain": [
       "equilibrating: 0it [00:00, ?it/s]"
      ]
     },
     "metadata": {},
     "output_type": "display_data"
    },
    {
     "data": {
      "application/vnd.jupyter.widget-view+json": {
       "model_id": "4ee3d9d0eae54fc9a4ae65d9e63cb14f",
       "version_major": 2,
       "version_minor": 0
      },
      "text/plain": [
       "training:   0%|          | 0/500 [00:00<?, ?it/s]"
      ]
     },
     "metadata": {},
     "output_type": "display_data"
    },
    {
     "data": {
      "application/vnd.jupyter.widget-view+json": {
       "model_id": "",
       "version_major": 2,
       "version_minor": 0
      },
      "text/plain": [
       "sampling:   0%|          | 0/5 [00:00<?, ?it/s]"
      ]
     },
     "metadata": {},
     "output_type": "display_data"
    },
    {
     "data": {
      "application/vnd.jupyter.widget-view+json": {
       "model_id": "",
       "version_major": 2,
       "version_minor": 0
      },
      "text/plain": [
       "sampling:   0%|          | 0/5 [00:00<?, ?it/s]"
      ]
     },
     "metadata": {},
     "output_type": "display_data"
    },
    {
     "data": {
      "application/vnd.jupyter.widget-view+json": {
       "model_id": "",
       "version_major": 2,
       "version_minor": 0
      },
      "text/plain": [
       "sampling:   0%|          | 0/5 [00:00<?, ?it/s]"
      ]
     },
     "metadata": {},
     "output_type": "display_data"
    },
    {
     "data": {
      "application/vnd.jupyter.widget-view+json": {
       "model_id": "",
       "version_major": 2,
       "version_minor": 0
      },
      "text/plain": [
       "sampling:   0%|          | 0/5 [00:00<?, ?it/s]"
      ]
     },
     "metadata": {},
     "output_type": "display_data"
    },
    {
     "data": {
      "application/vnd.jupyter.widget-view+json": {
       "model_id": "",
       "version_major": 2,
       "version_minor": 0
      },
      "text/plain": [
       "sampling:   0%|          | 0/5 [00:00<?, ?it/s]"
      ]
     },
     "metadata": {},
     "output_type": "display_data"
    },
    {
     "data": {
      "application/vnd.jupyter.widget-view+json": {
       "model_id": "",
       "version_major": 2,
       "version_minor": 0
      },
      "text/plain": [
       "sampling:   0%|          | 0/5 [00:00<?, ?it/s]"
      ]
     },
     "metadata": {},
     "output_type": "display_data"
    },
    {
     "data": {
      "application/vnd.jupyter.widget-view+json": {
       "model_id": "",
       "version_major": 2,
       "version_minor": 0
      },
      "text/plain": [
       "sampling:   0%|          | 0/5 [00:00<?, ?it/s]"
      ]
     },
     "metadata": {},
     "output_type": "display_data"
    },
    {
     "data": {
      "application/vnd.jupyter.widget-view+json": {
       "model_id": "",
       "version_major": 2,
       "version_minor": 0
      },
      "text/plain": [
       "sampling:   0%|          | 0/5 [00:00<?, ?it/s]"
      ]
     },
     "metadata": {},
     "output_type": "display_data"
    },
    {
     "data": {
      "application/vnd.jupyter.widget-view+json": {
       "model_id": "",
       "version_major": 2,
       "version_minor": 0
      },
      "text/plain": [
       "sampling:   0%|          | 0/5 [00:00<?, ?it/s]"
      ]
     },
     "metadata": {},
     "output_type": "display_data"
    },
    {
     "data": {
      "application/vnd.jupyter.widget-view+json": {
       "model_id": "",
       "version_major": 2,
       "version_minor": 0
      },
      "text/plain": [
       "sampling:   0%|          | 0/5 [00:00<?, ?it/s]"
      ]
     },
     "metadata": {},
     "output_type": "display_data"
    },
    {
     "data": {
      "application/vnd.jupyter.widget-view+json": {
       "model_id": "",
       "version_major": 2,
       "version_minor": 0
      },
      "text/plain": [
       "sampling:   0%|          | 0/5 [00:00<?, ?it/s]"
      ]
     },
     "metadata": {},
     "output_type": "display_data"
    },
    {
     "data": {
      "application/vnd.jupyter.widget-view+json": {
       "model_id": "",
       "version_major": 2,
       "version_minor": 0
      },
      "text/plain": [
       "sampling:   0%|          | 0/5 [00:00<?, ?it/s]"
      ]
     },
     "metadata": {},
     "output_type": "display_data"
    },
    {
     "data": {
      "application/vnd.jupyter.widget-view+json": {
       "model_id": "",
       "version_major": 2,
       "version_minor": 0
      },
      "text/plain": [
       "sampling:   0%|          | 0/5 [00:00<?, ?it/s]"
      ]
     },
     "metadata": {},
     "output_type": "display_data"
    },
    {
     "data": {
      "application/vnd.jupyter.widget-view+json": {
       "model_id": "",
       "version_major": 2,
       "version_minor": 0
      },
      "text/plain": [
       "sampling:   0%|          | 0/5 [00:00<?, ?it/s]"
      ]
     },
     "metadata": {},
     "output_type": "display_data"
    },
    {
     "data": {
      "application/vnd.jupyter.widget-view+json": {
       "model_id": "",
       "version_major": 2,
       "version_minor": 0
      },
      "text/plain": [
       "sampling:   0%|          | 0/5 [00:00<?, ?it/s]"
      ]
     },
     "metadata": {},
     "output_type": "display_data"
    },
    {
     "data": {
      "application/vnd.jupyter.widget-view+json": {
       "model_id": "",
       "version_major": 2,
       "version_minor": 0
      },
      "text/plain": [
       "sampling:   0%|          | 0/5 [00:00<?, ?it/s]"
      ]
     },
     "metadata": {},
     "output_type": "display_data"
    },
    {
     "data": {
      "application/vnd.jupyter.widget-view+json": {
       "model_id": "",
       "version_major": 2,
       "version_minor": 0
      },
      "text/plain": [
       "sampling:   0%|          | 0/5 [00:00<?, ?it/s]"
      ]
     },
     "metadata": {},
     "output_type": "display_data"
    },
    {
     "data": {
      "application/vnd.jupyter.widget-view+json": {
       "model_id": "",
       "version_major": 2,
       "version_minor": 0
      },
      "text/plain": [
       "sampling:   0%|          | 0/5 [00:00<?, ?it/s]"
      ]
     },
     "metadata": {},
     "output_type": "display_data"
    },
    {
     "data": {
      "application/vnd.jupyter.widget-view+json": {
       "model_id": "",
       "version_major": 2,
       "version_minor": 0
      },
      "text/plain": [
       "sampling:   0%|          | 0/5 [00:00<?, ?it/s]"
      ]
     },
     "metadata": {},
     "output_type": "display_data"
    },
    {
     "data": {
      "application/vnd.jupyter.widget-view+json": {
       "model_id": "",
       "version_major": 2,
       "version_minor": 0
      },
      "text/plain": [
       "sampling:   0%|          | 0/5 [00:00<?, ?it/s]"
      ]
     },
     "metadata": {},
     "output_type": "display_data"
    },
    {
     "data": {
      "application/vnd.jupyter.widget-view+json": {
       "model_id": "",
       "version_major": 2,
       "version_minor": 0
      },
      "text/plain": [
       "sampling:   0%|          | 0/5 [00:00<?, ?it/s]"
      ]
     },
     "metadata": {},
     "output_type": "display_data"
    },
    {
     "data": {
      "application/vnd.jupyter.widget-view+json": {
       "model_id": "",
       "version_major": 2,
       "version_minor": 0
      },
      "text/plain": [
       "sampling:   0%|          | 0/5 [00:00<?, ?it/s]"
      ]
     },
     "metadata": {},
     "output_type": "display_data"
    },
    {
     "data": {
      "application/vnd.jupyter.widget-view+json": {
       "model_id": "",
       "version_major": 2,
       "version_minor": 0
      },
      "text/plain": [
       "sampling:   0%|          | 0/5 [00:00<?, ?it/s]"
      ]
     },
     "metadata": {},
     "output_type": "display_data"
    },
    {
     "data": {
      "application/vnd.jupyter.widget-view+json": {
       "model_id": "",
       "version_major": 2,
       "version_minor": 0
      },
      "text/plain": [
       "sampling:   0%|          | 0/5 [00:00<?, ?it/s]"
      ]
     },
     "metadata": {},
     "output_type": "display_data"
    },
    {
     "data": {
      "application/vnd.jupyter.widget-view+json": {
       "model_id": "",
       "version_major": 2,
       "version_minor": 0
      },
      "text/plain": [
       "sampling:   0%|          | 0/5 [00:00<?, ?it/s]"
      ]
     },
     "metadata": {},
     "output_type": "display_data"
    }
   ],
   "source": [
    "# train the network initialized with the cc-pvtz basis set\n",
    "\n",
    "deepqmc.train(net_tz, n_steps=500, batch_size=500, epoch_size=20, workdir='LiH/cc-pvtz')"
   ]
  },
  {
   "cell_type": "code",
   "execution_count": 8,
   "id": "3bd1d33e",
   "metadata": {},
   "outputs": [
    {
     "data": {
      "application/vnd.jupyter.widget-view+json": {
       "model_id": "25986bda47bb4a9e8b74e73745f8d72a",
       "version_major": 2,
       "version_minor": 0
      },
      "text/plain": [
       "equilibrating: 0it [00:00, ?it/s]"
      ]
     },
     "metadata": {},
     "output_type": "display_data"
    },
    {
     "data": {
      "text/plain": [
       "{'energy': -8.067064300499856+/-0.0007580727526534067}"
      ]
     },
     "execution_count": 8,
     "metadata": {},
     "output_type": "execute_result"
    }
   ],
   "source": [
    "# evaluate the ground state energy with the trained network (cc-pvtz)\n",
    "# n_steps: number of Monte Carlo sweeps (default: 500)\n",
    "# sample_size: length of the Markov chain (default: 1000)\n",
    "\n",
    "deepqmc.evaluate(net_tz, n_steps=400, sample_size=800)"
   ]
  },
  {
   "cell_type": "code",
   "execution_count": 5,
   "id": "498b1423",
   "metadata": {},
   "outputs": [],
   "source": [
    "E_paulinet.append(-8.067064300499856)"
   ]
  },
  {
   "cell_type": "markdown",
   "id": "be433c81",
   "metadata": {},
   "source": [
    "### PauliNet: cc-pvqz"
   ]
  },
  {
   "cell_type": "code",
   "execution_count": 9,
   "id": "7610468f",
   "metadata": {},
   "outputs": [
    {
     "data": {
      "application/vnd.jupyter.widget-view+json": {
       "model_id": "8cdee52db3324702a6611396a4bca9cf",
       "version_major": 2,
       "version_minor": 0
      },
      "text/plain": [
       "equilibrating: 0it [00:00, ?it/s]"
      ]
     },
     "metadata": {},
     "output_type": "display_data"
    },
    {
     "data": {
      "application/vnd.jupyter.widget-view+json": {
       "model_id": "c428cb723cdf4a98b0e0004539edb0b8",
       "version_major": 2,
       "version_minor": 0
      },
      "text/plain": [
       "training:   0%|          | 0/500 [00:00<?, ?it/s]"
      ]
     },
     "metadata": {},
     "output_type": "display_data"
    },
    {
     "data": {
      "application/vnd.jupyter.widget-view+json": {
       "model_id": "",
       "version_major": 2,
       "version_minor": 0
      },
      "text/plain": [
       "sampling:   0%|          | 0/5 [00:00<?, ?it/s]"
      ]
     },
     "metadata": {},
     "output_type": "display_data"
    },
    {
     "data": {
      "application/vnd.jupyter.widget-view+json": {
       "model_id": "",
       "version_major": 2,
       "version_minor": 0
      },
      "text/plain": [
       "sampling:   0%|          | 0/5 [00:00<?, ?it/s]"
      ]
     },
     "metadata": {},
     "output_type": "display_data"
    },
    {
     "data": {
      "application/vnd.jupyter.widget-view+json": {
       "model_id": "",
       "version_major": 2,
       "version_minor": 0
      },
      "text/plain": [
       "sampling:   0%|          | 0/5 [00:00<?, ?it/s]"
      ]
     },
     "metadata": {},
     "output_type": "display_data"
    },
    {
     "data": {
      "application/vnd.jupyter.widget-view+json": {
       "model_id": "",
       "version_major": 2,
       "version_minor": 0
      },
      "text/plain": [
       "sampling:   0%|          | 0/5 [00:00<?, ?it/s]"
      ]
     },
     "metadata": {},
     "output_type": "display_data"
    },
    {
     "data": {
      "application/vnd.jupyter.widget-view+json": {
       "model_id": "",
       "version_major": 2,
       "version_minor": 0
      },
      "text/plain": [
       "sampling:   0%|          | 0/5 [00:00<?, ?it/s]"
      ]
     },
     "metadata": {},
     "output_type": "display_data"
    },
    {
     "data": {
      "application/vnd.jupyter.widget-view+json": {
       "model_id": "",
       "version_major": 2,
       "version_minor": 0
      },
      "text/plain": [
       "sampling:   0%|          | 0/5 [00:00<?, ?it/s]"
      ]
     },
     "metadata": {},
     "output_type": "display_data"
    },
    {
     "data": {
      "application/vnd.jupyter.widget-view+json": {
       "model_id": "",
       "version_major": 2,
       "version_minor": 0
      },
      "text/plain": [
       "sampling:   0%|          | 0/5 [00:00<?, ?it/s]"
      ]
     },
     "metadata": {},
     "output_type": "display_data"
    },
    {
     "data": {
      "application/vnd.jupyter.widget-view+json": {
       "model_id": "",
       "version_major": 2,
       "version_minor": 0
      },
      "text/plain": [
       "sampling:   0%|          | 0/5 [00:00<?, ?it/s]"
      ]
     },
     "metadata": {},
     "output_type": "display_data"
    },
    {
     "data": {
      "application/vnd.jupyter.widget-view+json": {
       "model_id": "",
       "version_major": 2,
       "version_minor": 0
      },
      "text/plain": [
       "sampling:   0%|          | 0/5 [00:00<?, ?it/s]"
      ]
     },
     "metadata": {},
     "output_type": "display_data"
    },
    {
     "data": {
      "application/vnd.jupyter.widget-view+json": {
       "model_id": "",
       "version_major": 2,
       "version_minor": 0
      },
      "text/plain": [
       "sampling:   0%|          | 0/5 [00:00<?, ?it/s]"
      ]
     },
     "metadata": {},
     "output_type": "display_data"
    },
    {
     "data": {
      "application/vnd.jupyter.widget-view+json": {
       "model_id": "",
       "version_major": 2,
       "version_minor": 0
      },
      "text/plain": [
       "sampling:   0%|          | 0/5 [00:00<?, ?it/s]"
      ]
     },
     "metadata": {},
     "output_type": "display_data"
    },
    {
     "data": {
      "application/vnd.jupyter.widget-view+json": {
       "model_id": "",
       "version_major": 2,
       "version_minor": 0
      },
      "text/plain": [
       "sampling:   0%|          | 0/5 [00:00<?, ?it/s]"
      ]
     },
     "metadata": {},
     "output_type": "display_data"
    },
    {
     "data": {
      "application/vnd.jupyter.widget-view+json": {
       "model_id": "",
       "version_major": 2,
       "version_minor": 0
      },
      "text/plain": [
       "sampling:   0%|          | 0/5 [00:00<?, ?it/s]"
      ]
     },
     "metadata": {},
     "output_type": "display_data"
    },
    {
     "data": {
      "application/vnd.jupyter.widget-view+json": {
       "model_id": "",
       "version_major": 2,
       "version_minor": 0
      },
      "text/plain": [
       "sampling:   0%|          | 0/5 [00:00<?, ?it/s]"
      ]
     },
     "metadata": {},
     "output_type": "display_data"
    },
    {
     "data": {
      "application/vnd.jupyter.widget-view+json": {
       "model_id": "",
       "version_major": 2,
       "version_minor": 0
      },
      "text/plain": [
       "sampling:   0%|          | 0/5 [00:00<?, ?it/s]"
      ]
     },
     "metadata": {},
     "output_type": "display_data"
    },
    {
     "data": {
      "application/vnd.jupyter.widget-view+json": {
       "model_id": "",
       "version_major": 2,
       "version_minor": 0
      },
      "text/plain": [
       "sampling:   0%|          | 0/5 [00:00<?, ?it/s]"
      ]
     },
     "metadata": {},
     "output_type": "display_data"
    },
    {
     "data": {
      "application/vnd.jupyter.widget-view+json": {
       "model_id": "",
       "version_major": 2,
       "version_minor": 0
      },
      "text/plain": [
       "sampling:   0%|          | 0/5 [00:00<?, ?it/s]"
      ]
     },
     "metadata": {},
     "output_type": "display_data"
    },
    {
     "data": {
      "application/vnd.jupyter.widget-view+json": {
       "model_id": "",
       "version_major": 2,
       "version_minor": 0
      },
      "text/plain": [
       "sampling:   0%|          | 0/5 [00:00<?, ?it/s]"
      ]
     },
     "metadata": {},
     "output_type": "display_data"
    },
    {
     "data": {
      "application/vnd.jupyter.widget-view+json": {
       "model_id": "",
       "version_major": 2,
       "version_minor": 0
      },
      "text/plain": [
       "sampling:   0%|          | 0/5 [00:00<?, ?it/s]"
      ]
     },
     "metadata": {},
     "output_type": "display_data"
    },
    {
     "data": {
      "application/vnd.jupyter.widget-view+json": {
       "model_id": "",
       "version_major": 2,
       "version_minor": 0
      },
      "text/plain": [
       "sampling:   0%|          | 0/5 [00:00<?, ?it/s]"
      ]
     },
     "metadata": {},
     "output_type": "display_data"
    },
    {
     "data": {
      "application/vnd.jupyter.widget-view+json": {
       "model_id": "",
       "version_major": 2,
       "version_minor": 0
      },
      "text/plain": [
       "sampling:   0%|          | 0/5 [00:00<?, ?it/s]"
      ]
     },
     "metadata": {},
     "output_type": "display_data"
    },
    {
     "data": {
      "application/vnd.jupyter.widget-view+json": {
       "model_id": "",
       "version_major": 2,
       "version_minor": 0
      },
      "text/plain": [
       "sampling:   0%|          | 0/5 [00:00<?, ?it/s]"
      ]
     },
     "metadata": {},
     "output_type": "display_data"
    },
    {
     "data": {
      "application/vnd.jupyter.widget-view+json": {
       "model_id": "",
       "version_major": 2,
       "version_minor": 0
      },
      "text/plain": [
       "sampling:   0%|          | 0/5 [00:00<?, ?it/s]"
      ]
     },
     "metadata": {},
     "output_type": "display_data"
    },
    {
     "data": {
      "application/vnd.jupyter.widget-view+json": {
       "model_id": "",
       "version_major": 2,
       "version_minor": 0
      },
      "text/plain": [
       "sampling:   0%|          | 0/5 [00:00<?, ?it/s]"
      ]
     },
     "metadata": {},
     "output_type": "display_data"
    },
    {
     "data": {
      "application/vnd.jupyter.widget-view+json": {
       "model_id": "",
       "version_major": 2,
       "version_minor": 0
      },
      "text/plain": [
       "sampling:   0%|          | 0/5 [00:00<?, ?it/s]"
      ]
     },
     "metadata": {},
     "output_type": "display_data"
    }
   ],
   "source": [
    "# train the network initialized with the cc-pvqz basis set\n",
    "\n",
    "deepqmc.train(net_qz, n_steps=500, batch_size=500, epoch_size=20, workdir='LiH/cc-pvqz')"
   ]
  },
  {
   "cell_type": "code",
   "execution_count": 10,
   "id": "964a1be2",
   "metadata": {},
   "outputs": [
    {
     "data": {
      "application/vnd.jupyter.widget-view+json": {
       "model_id": "fd6dab4cfc84413e9c0c6cb34f6e1bed",
       "version_major": 2,
       "version_minor": 0
      },
      "text/plain": [
       "equilibrating: 0it [00:00, ?it/s]"
      ]
     },
     "metadata": {},
     "output_type": "display_data"
    },
    {
     "data": {
      "text/plain": [
       "{'energy': -8.067978326804935+/-0.0006198147440780272}"
      ]
     },
     "execution_count": 10,
     "metadata": {},
     "output_type": "execute_result"
    }
   ],
   "source": [
    "# evaluate the ground state energy with the trained network (cc-pvqz)\n",
    "# n_steps: number of Monte Carlo sweeps (default: 500)\n",
    "# sample_size: length of the Markov chain (default: 1000)\n",
    "\n",
    "deepqmc.evaluate(net_qz, n_steps=400, sample_size=800)"
   ]
  },
  {
   "cell_type": "code",
   "execution_count": 6,
   "id": "da24f3ac",
   "metadata": {},
   "outputs": [],
   "source": [
    "E_paulinet.append(-8.067978326804935)"
   ]
  },
  {
   "cell_type": "markdown",
   "id": "bcb20ebc",
   "metadata": {},
   "source": [
    "### PauliNet: cc-pv5z"
   ]
  },
  {
   "cell_type": "code",
   "execution_count": 11,
   "id": "afe19b62",
   "metadata": {},
   "outputs": [
    {
     "data": {
      "application/vnd.jupyter.widget-view+json": {
       "model_id": "db8659b045754e17bd2411aaf2c771c3",
       "version_major": 2,
       "version_minor": 0
      },
      "text/plain": [
       "equilibrating: 0it [00:00, ?it/s]"
      ]
     },
     "metadata": {},
     "output_type": "display_data"
    },
    {
     "data": {
      "application/vnd.jupyter.widget-view+json": {
       "model_id": "747f4871ce9a42ac84f8ae51f1e81636",
       "version_major": 2,
       "version_minor": 0
      },
      "text/plain": [
       "training:   0%|          | 0/500 [00:00<?, ?it/s]"
      ]
     },
     "metadata": {},
     "output_type": "display_data"
    },
    {
     "data": {
      "application/vnd.jupyter.widget-view+json": {
       "model_id": "",
       "version_major": 2,
       "version_minor": 0
      },
      "text/plain": [
       "sampling:   0%|          | 0/5 [00:00<?, ?it/s]"
      ]
     },
     "metadata": {},
     "output_type": "display_data"
    },
    {
     "data": {
      "application/vnd.jupyter.widget-view+json": {
       "model_id": "",
       "version_major": 2,
       "version_minor": 0
      },
      "text/plain": [
       "sampling:   0%|          | 0/5 [00:00<?, ?it/s]"
      ]
     },
     "metadata": {},
     "output_type": "display_data"
    },
    {
     "data": {
      "application/vnd.jupyter.widget-view+json": {
       "model_id": "",
       "version_major": 2,
       "version_minor": 0
      },
      "text/plain": [
       "sampling:   0%|          | 0/5 [00:00<?, ?it/s]"
      ]
     },
     "metadata": {},
     "output_type": "display_data"
    },
    {
     "data": {
      "application/vnd.jupyter.widget-view+json": {
       "model_id": "",
       "version_major": 2,
       "version_minor": 0
      },
      "text/plain": [
       "sampling:   0%|          | 0/5 [00:00<?, ?it/s]"
      ]
     },
     "metadata": {},
     "output_type": "display_data"
    },
    {
     "data": {
      "application/vnd.jupyter.widget-view+json": {
       "model_id": "",
       "version_major": 2,
       "version_minor": 0
      },
      "text/plain": [
       "sampling:   0%|          | 0/5 [00:00<?, ?it/s]"
      ]
     },
     "metadata": {},
     "output_type": "display_data"
    },
    {
     "data": {
      "application/vnd.jupyter.widget-view+json": {
       "model_id": "",
       "version_major": 2,
       "version_minor": 0
      },
      "text/plain": [
       "sampling:   0%|          | 0/5 [00:00<?, ?it/s]"
      ]
     },
     "metadata": {},
     "output_type": "display_data"
    },
    {
     "data": {
      "application/vnd.jupyter.widget-view+json": {
       "model_id": "",
       "version_major": 2,
       "version_minor": 0
      },
      "text/plain": [
       "sampling:   0%|          | 0/5 [00:00<?, ?it/s]"
      ]
     },
     "metadata": {},
     "output_type": "display_data"
    },
    {
     "data": {
      "application/vnd.jupyter.widget-view+json": {
       "model_id": "",
       "version_major": 2,
       "version_minor": 0
      },
      "text/plain": [
       "sampling:   0%|          | 0/5 [00:00<?, ?it/s]"
      ]
     },
     "metadata": {},
     "output_type": "display_data"
    },
    {
     "data": {
      "application/vnd.jupyter.widget-view+json": {
       "model_id": "",
       "version_major": 2,
       "version_minor": 0
      },
      "text/plain": [
       "sampling:   0%|          | 0/5 [00:00<?, ?it/s]"
      ]
     },
     "metadata": {},
     "output_type": "display_data"
    },
    {
     "data": {
      "application/vnd.jupyter.widget-view+json": {
       "model_id": "",
       "version_major": 2,
       "version_minor": 0
      },
      "text/plain": [
       "sampling:   0%|          | 0/5 [00:00<?, ?it/s]"
      ]
     },
     "metadata": {},
     "output_type": "display_data"
    },
    {
     "data": {
      "application/vnd.jupyter.widget-view+json": {
       "model_id": "",
       "version_major": 2,
       "version_minor": 0
      },
      "text/plain": [
       "sampling:   0%|          | 0/5 [00:00<?, ?it/s]"
      ]
     },
     "metadata": {},
     "output_type": "display_data"
    },
    {
     "data": {
      "application/vnd.jupyter.widget-view+json": {
       "model_id": "",
       "version_major": 2,
       "version_minor": 0
      },
      "text/plain": [
       "sampling:   0%|          | 0/5 [00:00<?, ?it/s]"
      ]
     },
     "metadata": {},
     "output_type": "display_data"
    },
    {
     "data": {
      "application/vnd.jupyter.widget-view+json": {
       "model_id": "",
       "version_major": 2,
       "version_minor": 0
      },
      "text/plain": [
       "sampling:   0%|          | 0/5 [00:00<?, ?it/s]"
      ]
     },
     "metadata": {},
     "output_type": "display_data"
    },
    {
     "data": {
      "application/vnd.jupyter.widget-view+json": {
       "model_id": "",
       "version_major": 2,
       "version_minor": 0
      },
      "text/plain": [
       "sampling:   0%|          | 0/5 [00:00<?, ?it/s]"
      ]
     },
     "metadata": {},
     "output_type": "display_data"
    },
    {
     "data": {
      "application/vnd.jupyter.widget-view+json": {
       "model_id": "",
       "version_major": 2,
       "version_minor": 0
      },
      "text/plain": [
       "sampling:   0%|          | 0/5 [00:00<?, ?it/s]"
      ]
     },
     "metadata": {},
     "output_type": "display_data"
    },
    {
     "data": {
      "application/vnd.jupyter.widget-view+json": {
       "model_id": "",
       "version_major": 2,
       "version_minor": 0
      },
      "text/plain": [
       "sampling:   0%|          | 0/5 [00:00<?, ?it/s]"
      ]
     },
     "metadata": {},
     "output_type": "display_data"
    },
    {
     "data": {
      "application/vnd.jupyter.widget-view+json": {
       "model_id": "",
       "version_major": 2,
       "version_minor": 0
      },
      "text/plain": [
       "sampling:   0%|          | 0/5 [00:00<?, ?it/s]"
      ]
     },
     "metadata": {},
     "output_type": "display_data"
    },
    {
     "data": {
      "application/vnd.jupyter.widget-view+json": {
       "model_id": "",
       "version_major": 2,
       "version_minor": 0
      },
      "text/plain": [
       "sampling:   0%|          | 0/5 [00:00<?, ?it/s]"
      ]
     },
     "metadata": {},
     "output_type": "display_data"
    },
    {
     "data": {
      "application/vnd.jupyter.widget-view+json": {
       "model_id": "",
       "version_major": 2,
       "version_minor": 0
      },
      "text/plain": [
       "sampling:   0%|          | 0/5 [00:00<?, ?it/s]"
      ]
     },
     "metadata": {},
     "output_type": "display_data"
    },
    {
     "data": {
      "application/vnd.jupyter.widget-view+json": {
       "model_id": "",
       "version_major": 2,
       "version_minor": 0
      },
      "text/plain": [
       "sampling:   0%|          | 0/5 [00:00<?, ?it/s]"
      ]
     },
     "metadata": {},
     "output_type": "display_data"
    },
    {
     "data": {
      "application/vnd.jupyter.widget-view+json": {
       "model_id": "",
       "version_major": 2,
       "version_minor": 0
      },
      "text/plain": [
       "sampling:   0%|          | 0/5 [00:00<?, ?it/s]"
      ]
     },
     "metadata": {},
     "output_type": "display_data"
    },
    {
     "data": {
      "application/vnd.jupyter.widget-view+json": {
       "model_id": "",
       "version_major": 2,
       "version_minor": 0
      },
      "text/plain": [
       "sampling:   0%|          | 0/5 [00:00<?, ?it/s]"
      ]
     },
     "metadata": {},
     "output_type": "display_data"
    },
    {
     "data": {
      "application/vnd.jupyter.widget-view+json": {
       "model_id": "",
       "version_major": 2,
       "version_minor": 0
      },
      "text/plain": [
       "sampling:   0%|          | 0/5 [00:00<?, ?it/s]"
      ]
     },
     "metadata": {},
     "output_type": "display_data"
    },
    {
     "data": {
      "application/vnd.jupyter.widget-view+json": {
       "model_id": "",
       "version_major": 2,
       "version_minor": 0
      },
      "text/plain": [
       "sampling:   0%|          | 0/5 [00:00<?, ?it/s]"
      ]
     },
     "metadata": {},
     "output_type": "display_data"
    },
    {
     "data": {
      "application/vnd.jupyter.widget-view+json": {
       "model_id": "",
       "version_major": 2,
       "version_minor": 0
      },
      "text/plain": [
       "sampling:   0%|          | 0/5 [00:00<?, ?it/s]"
      ]
     },
     "metadata": {},
     "output_type": "display_data"
    }
   ],
   "source": [
    "# train the network initialized with the cc-pvqz basis set\n",
    "\n",
    "deepqmc.train(net_5z, n_steps=500, batch_size=500, epoch_size=20, workdir='LiH/cc-pv5z')"
   ]
  },
  {
   "cell_type": "code",
   "execution_count": 12,
   "id": "0c2b54cb",
   "metadata": {},
   "outputs": [
    {
     "data": {
      "application/vnd.jupyter.widget-view+json": {
       "model_id": "071364e6ec87430cb95a4d7a04f901b2",
       "version_major": 2,
       "version_minor": 0
      },
      "text/plain": [
       "equilibrating: 0it [00:00, ?it/s]"
      ]
     },
     "metadata": {},
     "output_type": "display_data"
    },
    {
     "data": {
      "text/plain": [
       "{'energy': -8.068197283573449+/-0.0007558230401955294}"
      ]
     },
     "execution_count": 12,
     "metadata": {},
     "output_type": "execute_result"
    }
   ],
   "source": [
    "# evaluate the ground state energy with the trained network (cc-pv5z)\n",
    "# n_steps: number of Monte Carlo sweeps (default: 500)\n",
    "# sample_size: length of the Markov chain (default: 1000)\n",
    "\n",
    "deepqmc.evaluate(net_5z, n_steps=400, sample_size=800)"
   ]
  },
  {
   "cell_type": "code",
   "execution_count": 7,
   "id": "65925b70",
   "metadata": {},
   "outputs": [],
   "source": [
    "E_paulinet.append(-8.068197283573449)"
   ]
  },
  {
   "cell_type": "markdown",
   "id": "44a0bdd6",
   "metadata": {},
   "source": [
    "## Traditional quantum chemistry calculations\n",
    "\n",
    "In this part we are going to perform traditional quantum chemical calculations using coupled cluster theory. We are going to use CCSD(T) with an increasing basis set size, starting from cc-pvdz up to cc-pv5z.\n",
    "This will allow us to use extrapolation techniques to the complete basis set limit and compare the results with those obtained by PauliNet."
   ]
  },
  {
   "cell_type": "code",
   "execution_count": 8,
   "id": "24b7fd6b",
   "metadata": {},
   "outputs": [],
   "source": [
    "# import relevant modules from pyscf\n",
    "from pyscf import gto,scf,cc,fci"
   ]
  },
  {
   "cell_type": "markdown",
   "id": "45d5860f",
   "metadata": {},
   "source": [
    "Like before, we need to define the molecule in a datastructure that pyscf understand, as well as initialize the arrays containing the energies computed."
   ]
  },
  {
   "cell_type": "code",
   "execution_count": 9,
   "id": "33eb1b36",
   "metadata": {},
   "outputs": [],
   "source": [
    "# define the LiH molecule using the pyscf datastructure\n",
    "LiH_pyscf  = gto.M(\n",
    "    atom   = 'Li 0.0 0.0 0.0;H 3.0141132 0.0 0.0',\n",
    "    charge = 0,\n",
    "    spin   = 0,\n",
    "    unit   = 'Bohr')\n",
    "\n",
    "# initialize arrays to keep energies\n",
    "E_rhf    = []\n",
    "E_ccsd   = []\n",
    "E_ccsd_t = []\n",
    "E_fci    = []"
   ]
  },
  {
   "cell_type": "markdown",
   "id": "355fafb2",
   "metadata": {},
   "source": [
    "We are now ready to perform the calculations, starting with cc-pvdz.\n",
    "\n",
    "### CCSD(T): cc-pvdz"
   ]
  },
  {
   "cell_type": "code",
   "execution_count": 10,
   "id": "87fa58cf",
   "metadata": {},
   "outputs": [
    {
     "name": "stdout",
     "output_type": "stream",
     "text": [
      "converged SCF energy = -7.98361586710687\n"
     ]
    }
   ],
   "source": [
    "# set the cc-pvdz basis set\n",
    "LiH_pyscf.basis = 'cc-pvdz'\n",
    "LiH_pyscf.build()\n",
    "\n",
    "# perform a restricted Hartree-Fock calculation\n",
    "rhf_dz = scf.RHF(LiH_pyscf)\n",
    "energy = rhf_dz.kernel()\n",
    "E_rhf.append(energy)"
   ]
  },
  {
   "cell_type": "code",
   "execution_count": 11,
   "id": "7aa8cd9d",
   "metadata": {},
   "outputs": [
    {
     "name": "stdout",
     "output_type": "stream",
     "text": [
      "E(CCSD) = -8.014717265233241  E_corr = -0.03110139812637423\n"
     ]
    }
   ],
   "source": [
    "# perform a CCSD calculation\n",
    "ccsd_dz = cc.CCSD(rhf_dz)\n",
    "energy  = ccsd_dz.kernel()[0]\n",
    "E_ccsd.append(energy)"
   ]
  },
  {
   "cell_type": "code",
   "execution_count": 12,
   "id": "7d90ed50",
   "metadata": {},
   "outputs": [
    {
     "name": "stdout",
     "output_type": "stream",
     "text": [
      "CCSD(T) correction = -9.35512995087554e-06\n"
     ]
    }
   ],
   "source": [
    "# compute perturbative corrections for triples\n",
    "energy = ccsd_dz.ccsd_t()\n",
    "E_ccsd_t.append(energy)"
   ]
  },
  {
   "cell_type": "code",
   "execution_count": 18,
   "id": "7b8307c1",
   "metadata": {},
   "outputs": [
    {
     "name": "stdout",
     "output_type": "stream",
     "text": [
      "E(FCI) =  -8.014728026856043\n"
     ]
    }
   ],
   "source": [
    "# perform FCI calculation (4,19) active space\n",
    "fci_dz = fci.FCI(rhf_dz)\n",
    "energy = fci_dz.kernel()[0]\n",
    "E_fci.append(energy)\n",
    "print('E(FCI) = ',energy)"
   ]
  },
  {
   "cell_type": "markdown",
   "id": "24abbf99",
   "metadata": {},
   "source": [
    "### CCSD(T): cc-pvtz"
   ]
  },
  {
   "cell_type": "code",
   "execution_count": 13,
   "id": "ddbc3566",
   "metadata": {},
   "outputs": [
    {
     "name": "stdout",
     "output_type": "stream",
     "text": [
      "converged SCF energy = -7.98663267395152\n"
     ]
    }
   ],
   "source": [
    "# set the cc-pvtz basis set\n",
    "LiH_pyscf.basis = 'cc-pvtz'\n",
    "LiH_pyscf.build()\n",
    "\n",
    "# perform a restricted Hartree-Fock calculation\n",
    "rhf_tz = scf.RHF(LiH_pyscf)\n",
    "energy = rhf_tz.kernel()\n",
    "E_rhf.append(energy)"
   ]
  },
  {
   "cell_type": "code",
   "execution_count": 14,
   "id": "8b7775a3",
   "metadata": {},
   "outputs": [
    {
     "name": "stdout",
     "output_type": "stream",
     "text": [
      "E(CCSD) = -8.036618139548487  E_corr = -0.04998546559697128\n"
     ]
    }
   ],
   "source": [
    "# perform a CCSD calculation\n",
    "ccsd_tz = cc.CCSD(rhf_tz)\n",
    "energy  = ccsd_tz.kernel()[0]\n",
    "E_ccsd.append(energy)"
   ]
  },
  {
   "cell_type": "code",
   "execution_count": 15,
   "id": "ceae4bd6",
   "metadata": {},
   "outputs": [
    {
     "name": "stdout",
     "output_type": "stream",
     "text": [
      "CCSD(T) correction = -6.96456791428138e-05\n"
     ]
    }
   ],
   "source": [
    "# compute perturbative corrections for triples\n",
    "energy = ccsd_tz.ccsd_t()\n",
    "E_ccsd_t.append(energy)"
   ]
  },
  {
   "cell_type": "code",
   "execution_count": 22,
   "id": "3d1e1a59",
   "metadata": {},
   "outputs": [
    {
     "name": "stdout",
     "output_type": "stream",
     "text": [
      "E(FCI) =  -8.036701923959226\n"
     ]
    }
   ],
   "source": [
    "# perform FCI calculation (4,48) active space\n",
    "fci_tz = fci.FCI(rhf_tz)\n",
    "energy = fci_tz.kernel()[0]\n",
    "E_fci.append(energy)\n",
    "print('E(FCI) = ',energy)"
   ]
  },
  {
   "cell_type": "markdown",
   "id": "90c97d4e",
   "metadata": {},
   "source": [
    "### CCSD(T): cc-pvqz"
   ]
  },
  {
   "cell_type": "code",
   "execution_count": 16,
   "id": "e6893087",
   "metadata": {},
   "outputs": [
    {
     "name": "stdout",
     "output_type": "stream",
     "text": [
      "converged SCF energy = -7.98717705643815\n"
     ]
    }
   ],
   "source": [
    "# set the cc-pvqz basis set\n",
    "LiH_pyscf.basis = 'cc-pvqz'\n",
    "LiH_pyscf.build()\n",
    "\n",
    "# perform a restricted Hartree-Fock calculation\n",
    "rhf_qz = scf.RHF(LiH_pyscf)\n",
    "energy = rhf_qz.kernel()\n",
    "E_rhf.append(energy)"
   ]
  },
  {
   "cell_type": "code",
   "execution_count": 17,
   "id": "48aa88c6",
   "metadata": {},
   "outputs": [
    {
     "name": "stdout",
     "output_type": "stream",
     "text": [
      "E(CCSD) = -8.042556444452746  E_corr = -0.05537938801459594\n"
     ]
    }
   ],
   "source": [
    "# perform a CCSD calculation\n",
    "ccsd_qz = cc.CCSD(rhf_qz)\n",
    "energy  = ccsd_qz.kernel()[0]\n",
    "E_ccsd.append(energy)"
   ]
  },
  {
   "cell_type": "code",
   "execution_count": 18,
   "id": "74f76513",
   "metadata": {},
   "outputs": [
    {
     "name": "stdout",
     "output_type": "stream",
     "text": [
      "CCSD(T) correction = -0.000116582210642366\n"
     ]
    }
   ],
   "source": [
    "# compute perturbative corrections for triples\n",
    "energy = ccsd_qz.ccsd_t()\n",
    "E_ccsd_t.append(energy)"
   ]
  },
  {
   "cell_type": "code",
   "execution_count": null,
   "id": "df62b691",
   "metadata": {},
   "outputs": [],
   "source": [
    "# (4,95) active space (very expensive!!)\n",
    "# fci_qz = fci.FCI(rhf_qz)\n",
    "# energy = fci_qz.kernel()[0]\n",
    "# E_fci.append(energy)\n",
    "# print('E(FCI) = ',energy)"
   ]
  },
  {
   "cell_type": "markdown",
   "id": "74c5ad35",
   "metadata": {},
   "source": [
    "### CCSD(T): cc-pv5z"
   ]
  },
  {
   "cell_type": "code",
   "execution_count": 19,
   "id": "34917c99",
   "metadata": {},
   "outputs": [
    {
     "name": "stdout",
     "output_type": "stream",
     "text": [
      "converged SCF energy = -7.9873239503501\n"
     ]
    }
   ],
   "source": [
    "# set the cc-pv5z basis set\n",
    "LiH_pyscf.basis = 'cc-pv5z'\n",
    "LiH_pyscf.build()\n",
    "# perform a restricted Hartree-Fock calculation\n",
    "rhf_5z = scf.RHF(LiH_pyscf)\n",
    "energy = rhf_5z.kernel()\n",
    "E_rhf.append(energy)"
   ]
  },
  {
   "cell_type": "code",
   "execution_count": 35,
   "id": "c873309d",
   "metadata": {},
   "outputs": [
    {
     "name": "stdout",
     "output_type": "stream",
     "text": [
      "E(CCSD) = -8.05347767773565  E_corr = -0.06615372738554838\n"
     ]
    }
   ],
   "source": [
    "# perform a CCSD calculation\n",
    "ccsd_5z = cc.CCSD(rhf_5z)\n",
    "energy  = ccsd_5z.kernel()[0]\n",
    "E_ccsd.append(energy)"
   ]
  },
  {
   "cell_type": "code",
   "execution_count": 21,
   "id": "6c4e6e66",
   "metadata": {},
   "outputs": [
    {
     "name": "stdout",
     "output_type": "stream",
     "text": [
      "CCSD(T) correction = -0.00013996423404489\n"
     ]
    }
   ],
   "source": [
    "# compute perturbative corrections for triples\n",
    "energy = ccsd_5z.ccsd_t()\n",
    "E_ccsd_t.append(energy)"
   ]
  },
  {
   "cell_type": "markdown",
   "id": "2d275600",
   "metadata": {},
   "source": [
    "## Comparison of PauliNet and CCSD(T)\n",
    "\n",
    "In this section we are going to compare the ground state energies obtained with the two approaches."
   ]
  },
  {
   "cell_type": "code",
   "execution_count": 28,
   "id": "ea44a1f5",
   "metadata": {},
   "outputs": [],
   "source": [
    "# import matplotlib\n",
    "import matplotlib.pyplot as plt"
   ]
  },
  {
   "cell_type": "code",
   "execution_count": 36,
   "id": "f928033c",
   "metadata": {},
   "outputs": [],
   "source": [
    "# sum together the energies\n",
    "x = [2,3,4,5]\n",
    "E_cc = [rhf + ccsd + ccsd_t for rhf, ccsd, ccsd_t in zip(E_rhf, E_ccsd, E_ccsd_t)]"
   ]
  },
  {
   "cell_type": "code",
   "execution_count": 39,
   "id": "926e4622",
   "metadata": {},
   "outputs": [
    {
     "data": {
      "image/png": "[encoded data removed]",
      "text/plain": [
       "<Figure size 432x288 with 1 Axes>"
      ]
     },
     "metadata": {
      "needs_background": "light"
     },
     "output_type": "display_data"
    }
   ],
   "source": [
    "plt.figure(figsize=(6, 4))\n",
    "# Make the plots\n",
    "\n",
    "plt.title('Correlation energy convergence', fontsize=16)\n",
    "plt.xlabel('Basis set quality', fontsize=14)\n",
    "plt.ylabel('Total energy [Hartree]', fontsize=14)\n",
    "plt.xticks(x, ('cc-pvdz', 'cc-pvtz', 'cc-pvqz', 'cc-pv5z'),fontsize=12)\n",
    "# plt.xlim([-0, 1])\n",
    "# plt.tight_layout()\n",
    "plt.plot(x, E_cc, label='CCSD(T)')\n",
    "plt.plot(x, E_paulinet, label='PauliNet')\n",
    "plt.legend()\n",
    "plt.show()"
   ]
  },
  {
   "cell_type": "markdown",
   "id": "b60d130e",
   "metadata": {},
   "source": [
    "We can see from the plot that PauliNet is insensitive to the basis set choice and outperforms CCSD(T).\n",
    "However, this comes at the price of a much more expensive calculation."
   ]
  }
 ],
 "metadata": {
  "kernelspec": {
   "display_name": "Python 3 (ipykernel)",
   "language": "python",
   "name": "python3"
  },
  "language_info": {
   "codemirror_mode": {
    "name": "ipython",
    "version": 3
   },
   "file_extension": ".py",
   "mimetype": "text/x-python",
   "name": "python",
   "nbconvert_exporter": "python",
   "pygments_lexer": "ipython3",
   "version": "3.9.7"
  }
 },
 "nbformat": 4,
 "nbformat_minor": 5
}
